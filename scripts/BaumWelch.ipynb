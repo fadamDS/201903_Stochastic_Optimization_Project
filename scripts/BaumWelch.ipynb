{
 "cells": [
  {
   "cell_type": "code",
   "execution_count": null,
   "metadata": {},
   "outputs": [],
   "source": [
    "def forwardStep(outcomes, a, b, priors):\n",
    "    # Setting up Alpha Vector with Zeros\n",
    "    alpha = np.zeros((outcomes.shape[0], a.shape[0]))\n",
    "    alpha_norm = np.zeros((outcomes.shape[0], a.shape[0]))\n",
    "\n",
    "    # Initializing Alpha vectors at starting point\n",
    "    alpha[0] = priors * b[:,outcomes[0]]\n",
    "\n",
    "    # Induction Step, updating alphas\n",
    "    for t in range(outcomes.shape[0]-1):\n",
    "        for i in range(a.shape[0]):\n",
    "            alpha[t+1,i] = b[i,outcomes[t+1]] * alpha[t].dot(a[:,i])\n",
    "\n",
    "    return alpha\n",
    "\n",
    "def backwardStep(outcomes,a,b):\n",
    "    # Initialize Betas\n",
    "    beta = np.ones((outcomes.shape[0], a.shape[0]))\n",
    "\n",
    "    # Backward Induction\n",
    "    for t in range(outcomes.shape[0] -2,-1,-1):\n",
    "        for i in range(a.shape[0]):\n",
    "            beta[t,i] = (beta[t+1] * b[:,outcomes[t+1]]) @ a[i,:]\n",
    "\n",
    "    return beta\n",
    "\n",
    "def baumWelch(outcomes,a,b,priors, max_iters =100):\n",
    "    T = len(outcomes)\n",
    "    # Repated steps\n",
    "    for r in range(max_iters):\n",
    "\n",
    "        # Get Alphas and Betas at current step\n",
    "        alpha = forwardStep(outcomes,a,b,priors)\n",
    "        beta = backwardStep(outcomes,a,b)\n",
    "\n",
    "        # Initializing xi matrix\n",
    "        xi = np.zeros((a.shape[0],a.shape[0],T-1))\n",
    "\n",
    "        # Filling XI up\n",
    "        for t in range(T-1):\n",
    "            # Denominator is always the same\n",
    "            denominator = (alpha)[t,:] @ a * b[:, outcomes[t + 1]] @ beta[t + 1, :]\n",
    "            for i in range(a.shape[0]):\n",
    "\n",
    "                numerator = alpha[t, i] * a[i, :] * b[:, outcomes[t + 1]].T * beta[t + 1, :].T\n",
    "                xi[i, :, t] = numerator / denominator\n",
    "\n",
    "        # We define Gamma as the sum of the corresponding Xis, see tutorial by Rabiner\n",
    "        gamma = np.sum(xi, axis = 1)\n",
    "\n",
    "        # Updating Transition probabilities\n",
    "        a = np.sum(xi, 2) / np.sum(gamma, axis=1).reshape((-1, 1))\n",
    "\n",
    "        # Add additional T'th element in gamma\n",
    "        gamma = np.hstack((gamma, np.sum(xi[:, :, T - 2], axis=0).reshape((-1, 1))))\n",
    "\n",
    "        # Updating emission probabilities\n",
    "        K = b.shape[1]\n",
    "        denominator = np.sum(gamma, axis=1)\n",
    "        for l in range(K):\n",
    "            # Calculate each b for given state l\n",
    "             b[:, l] = np.sum(gamma[:, outcomes == l], axis=1)\n",
    "\n",
    "        # Divide by the common denominator\n",
    "        b = np.divide(b, denominator.reshape((-1, 1)))\n",
    "\n",
    "    # Return transistion and emission probabilities\n",
    "    return a , b"
   ]
  }
 ],
 "metadata": {
  "kernelspec": {
   "display_name": "Python 3",
   "language": "python",
   "name": "python3"
  },
  "language_info": {
   "codemirror_mode": {
    "name": "ipython",
    "version": 3
   },
   "file_extension": ".py",
   "mimetype": "text/x-python",
   "name": "python",
   "nbconvert_exporter": "python",
   "pygments_lexer": "ipython3",
   "version": "3.6.8"
  },
  "varInspector": {
   "cols": {
    "lenName": 16,
    "lenType": 16,
    "lenVar": 40
   },
   "kernels_config": {
    "python": {
     "delete_cmd_postfix": "",
     "delete_cmd_prefix": "del ",
     "library": "var_list.py",
     "varRefreshCmd": "print(var_dic_list())"
    },
    "r": {
     "delete_cmd_postfix": ") ",
     "delete_cmd_prefix": "rm(",
     "library": "var_list.r",
     "varRefreshCmd": "cat(var_dic_list()) "
    }
   },
   "types_to_exclude": [
    "module",
    "function",
    "builtin_function_or_method",
    "instance",
    "_Feature"
   ],
   "window_display": false
  }
 },
 "nbformat": 4,
 "nbformat_minor": 2
}
