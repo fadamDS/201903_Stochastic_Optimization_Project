{
 "cells": [
  {
   "cell_type": "code",
   "execution_count": 1,
   "metadata": {},
   "outputs": [],
   "source": [
    "import pandas as pd\n",
    "import seaborn as sns\n",
    "import matplotlib.pyplot as plt\n",
    "import numpy as np\n",
    "import math \n",
    "from utils.io import baumWelch"
   ]
  },
  {
   "cell_type": "markdown",
   "metadata": {},
   "source": [
    "# Defining Helper Functions"
   ]
  },
  {
   "cell_type": "code",
   "execution_count": 2,
   "metadata": {},
   "outputs": [],
   "source": [
    "# Function for Encoding Game Quality \n",
    "def gameEncoding(x,conditions):\n",
    "    if x <= conditions[0]:\n",
    "        out = 0\n",
    "    if (x > conditions[0]) and (x <= conditions[1]):\n",
    "        out = 1\n",
    "    if x > conditions[1]:\n",
    "        out = 2\n",
    "    return out\n",
    "\n",
    "\n",
    "def load_data(file):\n",
    "    \n",
    "    # Load Data\n",
    "    data = pd.read_csv(file)\n",
    "    \n",
    "    # Fill Nas with 0\n",
    "    data.fillna(0,inplace=True)\n",
    "    \n",
    "    # Locate players who actually played and had more than 0 seconds \n",
    "    gameData = data.loc[(data.did_not_play == 0) & (data.seconds_played > 0)].copy()\n",
    "\n",
    "    # Check if games played is more than 5\n",
    "    playerGames = gameData.groupby(\"name\").count()[\"did_not_play\"] >= 5\n",
    "\n",
    "    # Clean It up and perpare columns for custom index\n",
    "    gameData = gameData[gameData['name'].isin(playerGames[playerGames==True].index)]\n",
    "    indexCols = [\"field_goal_pct\",\"threePT_pct\",\"free_throws_pct\",\"trb\",'assists', 'steals', 'blocks','points']\n",
    "    \n",
    "    # Create GameValueIndex\n",
    "    gameData['GameValueIndex'] = (gameData.loc[:,indexCols].sum(axis = 1) -gameData.loc[:,\"turnovers\"])/gameData[\"seconds_played\"]\n",
    "    \n",
    "    # Quantiles for Game Quality assignment\n",
    "    conditions= [np.quantile(gameData['GameValueIndex'],0.3),np.quantile(gameData['GameValueIndex'],0.7)]\n",
    "    \n",
    "    # \n",
    "    gameData[\"gameQuality\"] = gameData[\"GameValueIndex\"].apply(lambda x: gameEncoding(x,conditions))\n",
    "     \n",
    "    # Return Data Frame\n",
    "    return gameData"
   ]
  },
  {
   "cell_type": "code",
   "execution_count": 5,
   "metadata": {},
   "outputs": [],
   "source": [
    "data1718 = load_data(\"../data/Players_Data_2017_18.csv\")\n",
    "data1819 = load_data(\"../data/Players_Data_2018_19.csv\")"
   ]
  },
  {
   "cell_type": "code",
   "execution_count": 6,
   "metadata": {},
   "outputs": [],
   "source": [
    "players1718 = data1718.name.unique()\n",
    "players1819 = data1819.name.unique()"
   ]
  },
  {
   "cell_type": "code",
   "execution_count": 7,
   "metadata": {},
   "outputs": [
    {
     "data": {
      "text/plain": [
       "<matplotlib.axes._subplots.AxesSubplot at 0x7f295a5eb2b0>"
      ]
     },
     "execution_count": 7,
     "metadata": {},
     "output_type": "execute_result"
    },
    {
     "data": {
      "image/png": "[encoded data removed]",
      "text/plain": [
       "<Figure size 432x288 with 1 Axes>"
      ]
     },
     "metadata": {},
     "output_type": "display_data"
    }
   ],
   "source": [
    "sns.distplot(data1718[\"gameQuality\"])\n"
   ]
  },
  {
   "cell_type": "code",
   "execution_count": 8,
   "metadata": {},
   "outputs": [],
   "source": [
    "# Find players found in both seasons\n",
    "players = (set(players1718) & set(players1819))\n",
    "\n",
    "# Again filter both seasons by these players \n",
    "data17 =  data1718[data1718[\"name\"].isin(players)].copy()\n",
    "data19 = data1819[data1819[\"name\"].isin(players)].copy()"
   ]
  },
  {
   "cell_type": "markdown",
   "metadata": {},
   "source": [
    "## Running the Algorithm for Both Seasons"
   ]
  },
  {
   "cell_type": "code",
   "execution_count": 9,
   "metadata": {},
   "outputs": [],
   "source": [
    "observations =[\"Bad\", \"Average\", \"Good\"]\n",
    "states = [\"Cold\", \"Hot\"]"
   ]
  },
  {
   "cell_type": "code",
   "execution_count": 10,
   "metadata": {},
   "outputs": [],
   "source": [
    "emission_probs = []\n",
    "for i in range(len(states)):\n",
    "    for j in range(len(observations)):\n",
    "        emission_probs.append(observations[j] + \" \" + states[i])\n",
    "        \n",
    "transitions = []\n",
    "for i in range(len(states)):\n",
    "    for j in range(len(states)):\n",
    "        transitions.append(states[i] +  \" \" + states[j])\n",
    "        \n",
    "columns = transitions  + emission_probs\n",
    "results = pd.DataFrame(index=players, columns=columns)"
   ]
  },
  {
   "cell_type": "markdown",
   "metadata": {},
   "source": [
    "### 2017  - 18 Season"
   ]
  },
  {
   "cell_type": "code",
   "execution_count": 11,
   "metadata": {
    "scrolled": false
   },
   "outputs": [
    {
     "name": "stdout",
     "output_type": "stream",
     "text": [
      "Done\n"
     ]
    }
   ],
   "source": [
    "# Results Data Frame\n",
    "results17 = pd.DataFrame(index=players, columns=columns)\n",
    "\n",
    "for player in players:\n",
    "    # \"Global\" priors (frome Oscars BBall Knwoledge)\n",
    "    a = np.array([[0.3,0.7],[0.6,0.4]])\n",
    "    b = np.array([[0.7, 0.15, 0.15],[0.1, 0.30, 0.60]])\n",
    "    priors = [0.2,0.8]\n",
    "    \n",
    "    # Get Current Player Values\n",
    "    currentPlayerOutcomes = data17.loc[data17.name == player][\"gameQuality\"].values\n",
    "    \n",
    "    # Run Baum Welch\n",
    "    transition, emission = baumWelch(currentPlayerOutcomes,a,b,priors,max_iters=50)\n",
    "    \n",
    "    # Store Values in Results\n",
    "    results17.loc[player] = np.concatenate((transition,emission),axis = None)\n",
    "print(\"Done\") "
   ]
  },
  {
   "cell_type": "markdown",
   "metadata": {},
   "source": [
    "### 2018 - 19 Season"
   ]
  },
  {
   "cell_type": "code",
   "execution_count": null,
   "metadata": {},
   "outputs": [],
   "source": [
    "# Results Data Frame\n",
    "results19 = pd.DataFrame(index=players, columns=columns)\n",
    "\n",
    "for player in players:\n",
    "    # \"Global\" priors (frome Oscars BBall Knwoledge)\n",
    "    a = np.array([[0.3,0.7],[0.6,0.4]])\n",
    "    b = np.array([[0.7, 0.15, 0.15],[0.1, 0.30, 0.60]])\n",
    "    priors = [0.2,0.8]\n",
    "    \n",
    "    # Get Current Player Values\n",
    "    currentPlayerOutcomes = data19.loc[data19.name == player][\"gameQuality\"].values\n",
    "    \n",
    "    # Run Baum Welch\n",
    "    transition, emission = baumWelch(currentPlayerOutcomes,a,b,priors,max_iters=50)\n",
    "    \n",
    "    # Store Values in Results\n",
    "    results19.loc[player] = np.concatenate((transition,emission),axis = None)\n",
    "print(\"Done\") "
   ]
  },
  {
   "cell_type": "markdown",
   "metadata": {},
   "source": [
    "# Ballers 2017 - 2018"
   ]
  },
  {
   "cell_type": "code",
   "execution_count": 12,
   "metadata": {
    "scrolled": true
   },
   "outputs": [
    {
     "data": {
      "text/html": [
       "<div>\n",
       "<style scoped>\n",
       "    .dataframe tbody tr th:only-of-type {\n",
       "        vertical-align: middle;\n",
       "    }\n",
       "\n",
       "    .dataframe tbody tr th {\n",
       "        vertical-align: top;\n",
       "    }\n",
       "\n",
       "    .dataframe thead th {\n",
       "        text-align: right;\n",
       "    }\n",
       "</style>\n",
       "<table border=\"1\" class=\"dataframe\">\n",
       "  <thead>\n",
       "    <tr style=\"text-align: right;\">\n",
       "      <th></th>\n",
       "      <th>Cold Cold</th>\n",
       "      <th>Cold Hot</th>\n",
       "      <th>Hot Cold</th>\n",
       "      <th>Hot Hot</th>\n",
       "      <th>Bad Cold</th>\n",
       "      <th>Average Cold</th>\n",
       "      <th>Good Cold</th>\n",
       "      <th>Bad Hot</th>\n",
       "      <th>Average Hot</th>\n",
       "      <th>Good Hot</th>\n",
       "    </tr>\n",
       "  </thead>\n",
       "  <tbody>\n",
       "    <tr>\n",
       "      <th>Russell Westbrook</th>\n",
       "      <td>0.0451422</td>\n",
       "      <td>0.954858</td>\n",
       "      <td>0.43349</td>\n",
       "      <td>0.56651</td>\n",
       "      <td>0</td>\n",
       "      <td>0.281897</td>\n",
       "      <td>0.718103</td>\n",
       "      <td>0</td>\n",
       "      <td>0.000394782</td>\n",
       "      <td>0.999605</td>\n",
       "    </tr>\n",
       "    <tr>\n",
       "      <th>LeBron James</th>\n",
       "      <td>0.141258</td>\n",
       "      <td>0.858742</td>\n",
       "      <td>0.344644</td>\n",
       "      <td>0.655356</td>\n",
       "      <td>0</td>\n",
       "      <td>0.117109</td>\n",
       "      <td>0.882891</td>\n",
       "      <td>0</td>\n",
       "      <td>0.106818</td>\n",
       "      <td>0.893182</td>\n",
       "    </tr>\n",
       "    <tr>\n",
       "      <th>James Harden</th>\n",
       "      <td>0.0114515</td>\n",
       "      <td>0.988549</td>\n",
       "      <td>0.492704</td>\n",
       "      <td>0.507296</td>\n",
       "      <td>0</td>\n",
       "      <td>0.125975</td>\n",
       "      <td>0.874025</td>\n",
       "      <td>0</td>\n",
       "      <td>7.44954e-07</td>\n",
       "      <td>0.999999</td>\n",
       "    </tr>\n",
       "    <tr>\n",
       "      <th>DeMarcus Cousins</th>\n",
       "      <td>0.1442</td>\n",
       "      <td>0.8558</td>\n",
       "      <td>0.345025</td>\n",
       "      <td>0.654975</td>\n",
       "      <td>0</td>\n",
       "      <td>0.117301</td>\n",
       "      <td>0.882699</td>\n",
       "      <td>0</td>\n",
       "      <td>0.098912</td>\n",
       "      <td>0.901088</td>\n",
       "    </tr>\n",
       "    <tr>\n",
       "      <th>Kyrie Irving</th>\n",
       "      <td>0.0394753</td>\n",
       "      <td>0.960525</td>\n",
       "      <td>0.942189</td>\n",
       "      <td>0.0578107</td>\n",
       "      <td>0.0336382</td>\n",
       "      <td>0.401031</td>\n",
       "      <td>0.565331</td>\n",
       "      <td>9.1022e-19</td>\n",
       "      <td>0.0356141</td>\n",
       "      <td>0.964386</td>\n",
       "    </tr>\n",
       "    <tr>\n",
       "      <th>Stephen Curry</th>\n",
       "      <td>0.00804335</td>\n",
       "      <td>0.991957</td>\n",
       "      <td>0.353544</td>\n",
       "      <td>0.646456</td>\n",
       "      <td>0</td>\n",
       "      <td>0.451373</td>\n",
       "      <td>0.548627</td>\n",
       "      <td>0</td>\n",
       "      <td>5.86348e-05</td>\n",
       "      <td>0.999941</td>\n",
       "    </tr>\n",
       "    <tr>\n",
       "      <th>Joel Embiid</th>\n",
       "      <td>0.123995</td>\n",
       "      <td>0.876005</td>\n",
       "      <td>0.351961</td>\n",
       "      <td>0.648039</td>\n",
       "      <td>0</td>\n",
       "      <td>0.184668</td>\n",
       "      <td>0.815332</td>\n",
       "      <td>0</td>\n",
       "      <td>0.0151645</td>\n",
       "      <td>0.984835</td>\n",
       "    </tr>\n",
       "    <tr>\n",
       "      <th>Anthony Davis</th>\n",
       "      <td>0.143563</td>\n",
       "      <td>0.856437</td>\n",
       "      <td>0.346398</td>\n",
       "      <td>0.653602</td>\n",
       "      <td>0</td>\n",
       "      <td>0.131357</td>\n",
       "      <td>0.868643</td>\n",
       "      <td>0</td>\n",
       "      <td>0.115429</td>\n",
       "      <td>0.884571</td>\n",
       "    </tr>\n",
       "    <tr>\n",
       "      <th>Karl-Anthony Towns</th>\n",
       "      <td>0.11188</td>\n",
       "      <td>0.88812</td>\n",
       "      <td>0.388674</td>\n",
       "      <td>0.611326</td>\n",
       "      <td>0.0403103</td>\n",
       "      <td>0.454986</td>\n",
       "      <td>0.504703</td>\n",
       "      <td>2.01073e-07</td>\n",
       "      <td>0.0649214</td>\n",
       "      <td>0.935078</td>\n",
       "    </tr>\n",
       "    <tr>\n",
       "      <th>Giannis Antetokounmpo</th>\n",
       "      <td>0.00619793</td>\n",
       "      <td>0.993802</td>\n",
       "      <td>0.50391</td>\n",
       "      <td>0.49609</td>\n",
       "      <td>0.0394509</td>\n",
       "      <td>0.157738</td>\n",
       "      <td>0.802811</td>\n",
       "      <td>3.8076e-12</td>\n",
       "      <td>3.34234e-05</td>\n",
       "      <td>0.999967</td>\n",
       "    </tr>\n",
       "    <tr>\n",
       "      <th>Hassan Whiteside</th>\n",
       "      <td>0.0697366</td>\n",
       "      <td>0.930263</td>\n",
       "      <td>0.398788</td>\n",
       "      <td>0.601212</td>\n",
       "      <td>0.062146</td>\n",
       "      <td>0.353831</td>\n",
       "      <td>0.584024</td>\n",
       "      <td>3.21145e-10</td>\n",
       "      <td>0.0608423</td>\n",
       "      <td>0.939158</td>\n",
       "    </tr>\n",
       "  </tbody>\n",
       "</table>\n",
       "</div>"
      ],
      "text/plain": [
       "                        Cold Cold  Cold Hot  Hot Cold    Hot Hot   Bad Cold  \\\n",
       "Russell Westbrook       0.0451422  0.954858   0.43349    0.56651          0   \n",
       "LeBron James             0.141258  0.858742  0.344644   0.655356          0   \n",
       "James Harden            0.0114515  0.988549  0.492704   0.507296          0   \n",
       "DeMarcus Cousins           0.1442    0.8558  0.345025   0.654975          0   \n",
       "Kyrie Irving            0.0394753  0.960525  0.942189  0.0578107  0.0336382   \n",
       "Stephen Curry          0.00804335  0.991957  0.353544   0.646456          0   \n",
       "Joel Embiid              0.123995  0.876005  0.351961   0.648039          0   \n",
       "Anthony Davis            0.143563  0.856437  0.346398   0.653602          0   \n",
       "Karl-Anthony Towns        0.11188   0.88812  0.388674   0.611326  0.0403103   \n",
       "Giannis Antetokounmpo  0.00619793  0.993802   0.50391    0.49609  0.0394509   \n",
       "Hassan Whiteside        0.0697366  0.930263  0.398788   0.601212   0.062146   \n",
       "\n",
       "                      Average Cold Good Cold      Bad Hot  Average Hot  \\\n",
       "Russell Westbrook         0.281897  0.718103            0  0.000394782   \n",
       "LeBron James              0.117109  0.882891            0     0.106818   \n",
       "James Harden              0.125975  0.874025            0  7.44954e-07   \n",
       "DeMarcus Cousins          0.117301  0.882699            0     0.098912   \n",
       "Kyrie Irving              0.401031  0.565331   9.1022e-19    0.0356141   \n",
       "Stephen Curry             0.451373  0.548627            0  5.86348e-05   \n",
       "Joel Embiid               0.184668  0.815332            0    0.0151645   \n",
       "Anthony Davis             0.131357  0.868643            0     0.115429   \n",
       "Karl-Anthony Towns        0.454986  0.504703  2.01073e-07    0.0649214   \n",
       "Giannis Antetokounmpo     0.157738  0.802811   3.8076e-12  3.34234e-05   \n",
       "Hassan Whiteside          0.353831  0.584024  3.21145e-10    0.0608423   \n",
       "\n",
       "                       Good Hot  \n",
       "Russell Westbrook      0.999605  \n",
       "LeBron James           0.893182  \n",
       "James Harden           0.999999  \n",
       "DeMarcus Cousins       0.901088  \n",
       "Kyrie Irving           0.964386  \n",
       "Stephen Curry          0.999941  \n",
       "Joel Embiid            0.984835  \n",
       "Anthony Davis          0.884571  \n",
       "Karl-Anthony Towns     0.935078  \n",
       "Giannis Antetokounmpo  0.999967  \n",
       "Hassan Whiteside       0.939158  "
      ]
     },
     "execution_count": 12,
     "metadata": {},
     "output_type": "execute_result"
    }
   ],
   "source": [
    "results17[(results17[\"Cold Cold\"] < 0.15) & (results17[\"Cold Hot\"] >= 0.85) & (results17[\"Good Hot\"] > 0.85) & (results17[\"Good Cold\"] >= 0.5)  ]"
   ]
  },
  {
   "cell_type": "markdown",
   "metadata": {},
   "source": [
    "# Ballers 2018 - 2019"
   ]
  },
  {
   "cell_type": "code",
   "execution_count": null,
   "metadata": {},
   "outputs": [],
   "source": [
    "results19[(results19[\"Cold Cold\"] < 0.15) & (results19[\"Cold Hot\"] >= 0.85) & (results19[\"Good Hot\"] > 0.85) & (results19[\"Good Cold\"] >= 0.5)  ]"
   ]
  },
  {
   "cell_type": "code",
   "execution_count": null,
   "metadata": {},
   "outputs": [],
   "source": [
    "differences.columns"
   ]
  },
  {
   "cell_type": "code",
   "execution_count": null,
   "metadata": {
    "scrolled": false
   },
   "outputs": [],
   "source": [
    "differences =  results19  - results17\n"
   ]
  },
  {
   "cell_type": "code",
   "execution_count": null,
   "metadata": {},
   "outputs": [],
   "source": [
    "differences.index[differences[\"Good Cold\"] == differences[\"Good Cold\"].max()]"
   ]
  },
  {
   "cell_type": "code",
   "execution_count": null,
   "metadata": {},
   "outputs": [],
   "source": [
    "results17.loc[\"John Henson\"]"
   ]
  },
  {
   "cell_type": "code",
   "execution_count": null,
   "metadata": {},
   "outputs": [],
   "source": [
    "results19.loc[\"John Henson\"]"
   ]
  },
  {
   "cell_type": "code",
   "execution_count": null,
   "metadata": {},
   "outputs": [],
   "source": []
  }
 ],
 "metadata": {
  "kernelspec": {
   "display_name": "Python 3",
   "language": "python",
   "name": "python3"
  },
  "language_info": {
   "codemirror_mode": {
    "name": "ipython",
    "version": 3
   },
   "file_extension": ".py",
   "mimetype": "text/x-python",
   "name": "python",
   "nbconvert_exporter": "python",
   "pygments_lexer": "ipython3",
   "version": "3.6.8"
  },
  "varInspector": {
   "cols": {
    "lenName": 16,
    "lenType": 16,
    "lenVar": 40
   },
   "kernels_config": {
    "python": {
     "delete_cmd_postfix": "",
     "delete_cmd_prefix": "del ",
     "library": "var_list.py",
     "varRefreshCmd": "print(var_dic_list())"
    },
    "r": {
     "delete_cmd_postfix": ") ",
     "delete_cmd_prefix": "rm(",
     "library": "var_list.r",
     "varRefreshCmd": "cat(var_dic_list()) "
    }
   },
   "types_to_exclude": [
    "module",
    "function",
    "builtin_function_or_method",
    "instance",
    "_Feature"
   ],
   "window_display": false
  }
 },
 "nbformat": 4,
 "nbformat_minor": 2
}
