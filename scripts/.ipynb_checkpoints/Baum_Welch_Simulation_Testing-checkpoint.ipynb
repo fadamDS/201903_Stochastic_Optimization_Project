{
 "cells": [
  {
   "cell_type": "markdown",
   "metadata": {},
   "source": [
    "## Baum Welch Algorithm for Basketball "
   ]
  },
  {
   "cell_type": "code",
   "execution_count": 2,
   "metadata": {},
   "outputs": [],
   "source": [
    "import numpy as np\n",
    "import seaborn as sns\n",
    "from scipy.stats import bernoulli\n",
    "import pandas as pd"
   ]
  },
  {
   "cell_type": "markdown",
   "metadata": {},
   "source": [
    "## Baum Welch Algorithm"
   ]
  },
  {
   "cell_type": "code",
   "execution_count": 3,
   "metadata": {},
   "outputs": [],
   "source": [
    "# Defining the Forward Step of the Algorithm\n",
    "def forwardStep(outcomes, a, b, priors):\n",
    "\n",
    "    # Setting up Alpha Vector with Zeros\n",
    "    alpha = np.zeros((outcomes.shape[0], a.shape[0]))\n",
    "    alpha_norm = np.zeros((outcomes.shape[0], a.shape[0]))\n",
    "\n",
    "    # Initializing Alpha vectors at starting point\n",
    "    alpha[0] = priors * b[:,outcomes[0]]\n",
    "\n",
    "    alpha_norm[0] = alpha[0] / np.sum(alpha[0])\n",
    "\n",
    "    # Induction Stept\n",
    "    for t in range(outcomes.shape[0]-1):\n",
    "        for i in range(a.shape[0]):\n",
    "            alpha[t+1,i] = b[i,outcomes[t+1]] * alpha[t].dot(a[:,i])\n",
    "        alpha_norm[t+1] = alpha[t+1] /np.sum(alpha[t+1])\n",
    "\n",
    "    return alpha\n",
    "\n",
    "def backwardStep(outcomes,a,b):\n",
    "    # Initialize Betas\n",
    "    beta = np.ones((outcomes.shape[0], a.shape[0]))\n",
    "\n",
    "    # Backward Induction\n",
    "    for t in range(outcomes.shape[0] -2,-1,-1):\n",
    "        for i in range(a.shape[0]):\n",
    "            beta[t,i] = (beta[t+1] * b[:,outcomes[t+1]]) @ a[i,:]\n",
    "\n",
    "    return beta\n",
    "\n",
    "def baumWelch(outcomes,a,b ,priors, max_iters =100):\n",
    "    T = len(outcomes)\n",
    "    \n",
    "    for r in range(max_iters):\n",
    "        \n",
    "        alpha = forwardStep(outcomes,a,b,priors)\n",
    "        beta = backwardStep(outcomes,a,b)\n",
    "        \n",
    "        xi = np.zeros((a.shape[0],a.shape[0],T-1))\n",
    "\n",
    "        for t in range(T-1):\n",
    "            denominator = (alpha)[t,:] @ a * b[:, outcomes[t + 1]] @ beta[t + 1, :]\n",
    "            for i in range(a.shape[0]):\n",
    "                numerator = alpha[t, i] * a[i, :] * b[:, outcomes[t + 1]].T * beta[t + 1, :].T\n",
    "                xi[i, :, t] = numerator / denominator\n",
    "\n",
    "\n",
    "        gamma = np.sum(xi, axis = 1)\n",
    "\n",
    "        a = np.sum(xi, 2) / np.sum(gamma, axis=1).reshape((-1, 1))\n",
    "\n",
    "\n",
    "        # Add additional T'th element in gamma\n",
    "        gamma = np.hstack((gamma, np.sum(xi[:, :, T - 2], axis=0).reshape((-1, 1))))\n",
    "\n",
    "        K = b.shape[1]\n",
    "        denominator = np.sum(gamma, axis=1)\n",
    "            \n",
    "        for l in range(K):\n",
    "            b[:, l] = np.sum(gamma[:, outcomes == l], axis=1)\n",
    "       \n",
    "        b = np.divide(b, denominator.reshape((-1, 1)))\n",
    "    \n",
    "    return a , b\n"
   ]
  },
  {
   "cell_type": "markdown",
   "metadata": {},
   "source": [
    "## Testing Code using Simulated Data "
   ]
  },
  {
   "cell_type": "code",
   "execution_count": 8,
   "metadata": {},
   "outputs": [],
   "source": [
    "data = pd.read_csv(\"../data/testing_data.csv\")\n",
    "\n",
    "outcomes = data.results.values\n",
    "trueStates = data.states.values"
   ]
  },
  {
   "cell_type": "code",
   "execution_count": 9,
   "metadata": {},
   "outputs": [],
   "source": [
    "# Parameters\n",
    "a = np.array([[0.3,0.7],[0.6,0.4]])\n",
    "b = np.array([[0.7, 0.15, 0.15],[0.1, 0.30, 0.60]])\n",
    "priors = [0.2,0.8]"
   ]
  },
  {
   "cell_type": "code",
   "execution_count": 10,
   "metadata": {},
   "outputs": [],
   "source": [
    "trans,ems  = baumWelch(outcomes,a,b,priors, max_iters=1)\n"
   ]
  },
  {
   "cell_type": "code",
   "execution_count": 11,
   "metadata": {},
   "outputs": [
    {
     "data": {
      "text/plain": [
       "array([[0.27850672, 0.72149328],\n",
       "       [0.58365056, 0.41634944]])"
      ]
     },
     "execution_count": 11,
     "metadata": {},
     "output_type": "execute_result"
    }
   ],
   "source": [
    "trans"
   ]
  },
  {
   "cell_type": "code",
   "execution_count": 12,
   "metadata": {},
   "outputs": [
    {
     "data": {
      "text/plain": [
       "array([[0.61759008, 0.24543286, 0.13697705],\n",
       "       [0.08098448, 0.39792181, 0.52109371]])"
      ]
     },
     "execution_count": 12,
     "metadata": {},
     "output_type": "execute_result"
    }
   ],
   "source": [
    "ems"
   ]
  },
  {
   "cell_type": "code",
   "execution_count": null,
   "metadata": {},
   "outputs": [],
   "source": []
  }
 ],
 "metadata": {
  "kernelspec": {
   "display_name": "Python 3",
   "language": "python",
   "name": "python3"
  },
  "language_info": {
   "codemirror_mode": {
    "name": "ipython",
    "version": 3
   },
   "file_extension": ".py",
   "mimetype": "text/x-python",
   "name": "python",
   "nbconvert_exporter": "python",
   "pygments_lexer": "ipython3",
   "version": "3.6.8"
  },
  "varInspector": {
   "cols": {
    "lenName": 16,
    "lenType": 16,
    "lenVar": 40
   },
   "kernels_config": {
    "python": {
     "delete_cmd_postfix": "",
     "delete_cmd_prefix": "del ",
     "library": "var_list.py",
     "varRefreshCmd": "print(var_dic_list())"
    },
    "r": {
     "delete_cmd_postfix": ") ",
     "delete_cmd_prefix": "rm(",
     "library": "var_list.r",
     "varRefreshCmd": "cat(var_dic_list()) "
    }
   },
   "types_to_exclude": [
    "module",
    "function",
    "builtin_function_or_method",
    "instance",
    "_Feature"
   ],
   "window_display": false
  }
 },
 "nbformat": 4,
 "nbformat_minor": 2
}
