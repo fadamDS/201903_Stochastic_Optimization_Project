{
 "cells": [
  {
   "cell_type": "code",
   "execution_count": 2,
   "metadata": {},
   "outputs": [],
   "source": [
    "import pandas as pd\n",
    "import seaborn as sns\n",
    "import matplotlib.pyplot as plt\n",
    "import numpy as np\n",
    "import math \n",
    "from utils.io import baumWelch"
   ]
  },
  {
   "cell_type": "markdown",
   "metadata": {},
   "source": [
    "# Defining Helper Functions"
   ]
  },
  {
   "cell_type": "code",
   "execution_count": 204,
   "metadata": {},
   "outputs": [],
   "source": [
    "# Function for Encoding Game Quality \n",
    "def gameEncoding(x):\n",
    "    if x <= np.quantile(gameData['GameValueIndex'],0.3):\n",
    "        out = 0\n",
    "    if (x > np.quantile(gameData['GameValueIndex'],0.3)) and (x <= np.quantile(gameData['GameValueIndex'],0.7)):\n",
    "        out = 1\n",
    "    if x > np.quantile(gameData['GameValueIndex'],0.7):\n",
    "        out = 2\n",
    "    return out\n",
    "\n",
    "\n",
    "def load_data(file):\n",
    "    \n",
    "    # Load Data\n",
    "    data = pd.read_csv(file)\n",
    "    \n",
    "    # Fill Nas with 0\n",
    "    data.fillna(0,inplace=True)\n",
    "    \n",
    "    # Locate players who actually played and had more than 0 seconds \n",
    "    gameData = data.loc[(data.did_not_play == 0) & (data.seconds_played > 0)].copy()\n",
    "\n",
    "    # Check if games played is more than 5\n",
    "    playerGames = gameData.groupby(\"name\").count()[\"did_not_play\"] >= 5\n",
    "\n",
    "    # Clean It up and perpare columns for custom index\n",
    "    gameData = gameData[gameData['name'].isin(playerGames[playerGames==True].index)]\n",
    "    indexCols = [\"field_goal_pct\",\"threePT_pct\",\"free_throws_pct\",\"trb\",'assists', 'steals', 'blocks','points']\n",
    "    \n",
    "    # Create GameValueIndex\n",
    "    gameData['GameValueIndex'] = (gameData.loc[:,indexCols].sum(axis = 1) -gameData.loc[:,\"turnovers\"])/gameData[\"seconds_played\"]\n",
    "    \n",
    "    # Create Game Quality \n",
    "    gameData[\"gameQuality\"] = gameData[\"GameValueIndex\"].apply(lambda x: gameEncoding(x))\n",
    "    \n",
    "    # Return Data Frame\n",
    "    return gameData"
   ]
  },
  {
   "cell_type": "code",
   "execution_count": 207,
   "metadata": {},
   "outputs": [],
   "source": [
    "data1718 = load_data(\"data/Players_Data_2017_18.csv\")\n",
    "data1819 = load_data(\"data/Players_Data_2018_19.csv\")"
   ]
  },
  {
   "cell_type": "code",
   "execution_count": 209,
   "metadata": {},
   "outputs": [],
   "source": [
    "players1718 = data1718.name.unique()\n",
    "players1819 = data1819.name.unique()"
   ]
  },
  {
   "cell_type": "code",
   "execution_count": 214,
   "metadata": {},
   "outputs": [],
   "source": [
    "# Find players found in both seasons\n",
    "players = (set(players1718) & set(players1819))\n",
    "\n",
    "# Again filter both seasons by these players \n",
    "data17 =  data1718[data1718[\"name\"].isin(players)].copy()\n",
    "data19 = data1819[data1819[\"name\"].isin(players)].copy()"
   ]
  },
  {
   "cell_type": "markdown",
   "metadata": {},
   "source": [
    "## Running the Algorithm for Both Seasons"
   ]
  },
  {
   "cell_type": "code",
   "execution_count": 220,
   "metadata": {},
   "outputs": [],
   "source": [
    "observations =[\"Bad\", \"Average\", \"Good\"]\n",
    "states = [\"Cold\", \"Hot\"]"
   ]
  },
  {
   "cell_type": "code",
   "execution_count": 221,
   "metadata": {},
   "outputs": [],
   "source": [
    "emission_probs = []\n",
    "for i in range(len(states)):\n",
    "    for j in range(len(observations)):\n",
    "        emission_probs.append(observations[j] + \" \" + states[i])\n",
    "        \n",
    "transitions = []\n",
    "for i in range(len(states)):\n",
    "    for j in range(len(states)):\n",
    "        transitions.append(states[i] +  \" \" + states[j])\n",
    "        \n",
    "columns = transitions  + emission_probs\n",
    "results = pd.DataFrame(index=players, columns=columns)"
   ]
  },
  {
   "cell_type": "markdown",
   "metadata": {},
   "source": [
    "### 2017  - 18 Season"
   ]
  },
  {
   "cell_type": "code",
   "execution_count": 228,
   "metadata": {},
   "outputs": [
    {
     "data": {
      "text/plain": [
       "array([[0.3, 0.7],\n",
       "       [0.6, 0.4]])"
      ]
     },
     "execution_count": 228,
     "metadata": {},
     "output_type": "execute_result"
    }
   ],
   "source": [
    "a"
   ]
  },
  {
   "cell_type": "code",
   "execution_count": 230,
   "metadata": {},
   "outputs": [
    {
     "data": {
      "text/plain": [
       "array([[0.7 , 0.15, 0.15],\n",
       "       [0.1 , 0.3 , 0.6 ]])"
      ]
     },
     "execution_count": 230,
     "metadata": {},
     "output_type": "execute_result"
    }
   ],
   "source": [
    "b = np.array([[0.7, 0.15, 0.15],[0.1, 0.30, 0.60]])\n",
    "b"
   ]
  },
  {
   "cell_type": "code",
   "execution_count": 231,
   "metadata": {},
   "outputs": [
    {
     "data": {
      "text/plain": [
       "[0.2, 0.8]"
      ]
     },
     "execution_count": 231,
     "metadata": {},
     "output_type": "execute_result"
    }
   ],
   "source": [
    "priors"
   ]
  },
  {
   "cell_type": "code",
   "execution_count": 224,
   "metadata": {
    "scrolled": false
   },
   "outputs": [
    {
     "name": "stdout",
     "output_type": "stream",
     "text": [
      "Done\n"
     ]
    }
   ],
   "source": [
    "# Results Data Frame\n",
    "results17 = pd.DataFrame(index=players, columns=columns)\n",
    "\n",
    "for player in players:\n",
    "    # \"Global\" priors (frome Oscars BBall Knwoledge)\n",
    "    a = np.array([[0.3,0.7],[0.6,0.4]])\n",
    "    b = np.array([[0.7, 0.15, 0.15],[0.1, 0.30, 0.60]])\n",
    "    priors = [0.2,0.8]\n",
    "    \n",
    "    # Get Current Player Values\n",
    "    currentPlayerOutcomes = data17.loc[data17.name == player][\"gameQuality\"].values\n",
    "    \n",
    "    # Run Baum Welch\n",
    "    transition, emission = baumWelch(currentPlayerOutcomes,a,b,priors,max_iters=50)\n",
    "    \n",
    "    # Store Values in Results\n",
    "    results17.loc[player] = np.concatenate((transition,emission),axis = None)\n",
    "print(\"Done\") "
   ]
  },
  {
   "cell_type": "markdown",
   "metadata": {},
   "source": [
    "### 2018 - 19 Season"
   ]
  },
  {
   "cell_type": "code",
   "execution_count": 225,
   "metadata": {},
   "outputs": [
    {
     "name": "stdout",
     "output_type": "stream",
     "text": [
      "Done\n"
     ]
    }
   ],
   "source": [
    "# Results Data Frame\n",
    "results19 = pd.DataFrame(index=players, columns=columns)\n",
    "\n",
    "for player in players:\n",
    "    # \"Global\" priors (frome Oscars BBall Knwoledge)\n",
    "    a = np.array([[0.3,0.7],[0.6,0.4]])\n",
    "    b = np.array([[0.7, 0.15, 0.15],[0.1, 0.30, 0.60]])\n",
    "    priors = [0.2,0.8]\n",
    "    \n",
    "    # Get Current Player Values\n",
    "    currentPlayerOutcomes = data19.loc[data19.name == player][\"gameQuality\"].values\n",
    "    \n",
    "    # Run Baum Welch\n",
    "    transition, emission = baumWelch(currentPlayerOutcomes,a,b,priors,max_iters=50)\n",
    "    \n",
    "    # Store Values in Results\n",
    "    results19.loc[player] = np.concatenate((transition,emission),axis = None)\n",
    "print(\"Done\") "
   ]
  },
  {
   "cell_type": "markdown",
   "metadata": {},
   "source": [
    "# Ballers 2017 - 2018"
   ]
  },
  {
   "cell_type": "code",
   "execution_count": 226,
   "metadata": {},
   "outputs": [
    {
     "data": {
      "text/html": [
       "<div>\n",
       "<style scoped>\n",
       "    .dataframe tbody tr th:only-of-type {\n",
       "        vertical-align: middle;\n",
       "    }\n",
       "\n",
       "    .dataframe tbody tr th {\n",
       "        vertical-align: top;\n",
       "    }\n",
       "\n",
       "    .dataframe thead th {\n",
       "        text-align: right;\n",
       "    }\n",
       "</style>\n",
       "<table border=\"1\" class=\"dataframe\">\n",
       "  <thead>\n",
       "    <tr style=\"text-align: right;\">\n",
       "      <th></th>\n",
       "      <th>Cold Cold</th>\n",
       "      <th>Cold Hot</th>\n",
       "      <th>Hot Cold</th>\n",
       "      <th>Hot Hot</th>\n",
       "      <th>Bad Cold</th>\n",
       "      <th>Average Cold</th>\n",
       "      <th>Good Cold</th>\n",
       "      <th>Bad Hot</th>\n",
       "      <th>Average Hot</th>\n",
       "      <th>Good Hot</th>\n",
       "    </tr>\n",
       "  </thead>\n",
       "  <tbody>\n",
       "    <tr>\n",
       "      <th>Hassan Whiteside</th>\n",
       "      <td>0.0697366</td>\n",
       "      <td>0.930263</td>\n",
       "      <td>0.398788</td>\n",
       "      <td>0.601212</td>\n",
       "      <td>0.062146</td>\n",
       "      <td>0.353831</td>\n",
       "      <td>0.584024</td>\n",
       "      <td>3.21145e-10</td>\n",
       "      <td>0.0608423</td>\n",
       "      <td>0.939158</td>\n",
       "    </tr>\n",
       "    <tr>\n",
       "      <th>Anthony Davis</th>\n",
       "      <td>0.143563</td>\n",
       "      <td>0.856437</td>\n",
       "      <td>0.346398</td>\n",
       "      <td>0.653602</td>\n",
       "      <td>0</td>\n",
       "      <td>0.131357</td>\n",
       "      <td>0.868643</td>\n",
       "      <td>0</td>\n",
       "      <td>0.115429</td>\n",
       "      <td>0.884571</td>\n",
       "    </tr>\n",
       "    <tr>\n",
       "      <th>Kyrie Irving</th>\n",
       "      <td>0.0394753</td>\n",
       "      <td>0.960525</td>\n",
       "      <td>0.942189</td>\n",
       "      <td>0.0578107</td>\n",
       "      <td>0.0336382</td>\n",
       "      <td>0.401031</td>\n",
       "      <td>0.565331</td>\n",
       "      <td>9.1022e-19</td>\n",
       "      <td>0.0356141</td>\n",
       "      <td>0.964386</td>\n",
       "    </tr>\n",
       "    <tr>\n",
       "      <th>Giannis Antetokounmpo</th>\n",
       "      <td>0.00619793</td>\n",
       "      <td>0.993802</td>\n",
       "      <td>0.50391</td>\n",
       "      <td>0.49609</td>\n",
       "      <td>0.0394509</td>\n",
       "      <td>0.157738</td>\n",
       "      <td>0.802811</td>\n",
       "      <td>3.8076e-12</td>\n",
       "      <td>3.34234e-05</td>\n",
       "      <td>0.999967</td>\n",
       "    </tr>\n",
       "    <tr>\n",
       "      <th>LeBron James</th>\n",
       "      <td>0.141258</td>\n",
       "      <td>0.858742</td>\n",
       "      <td>0.344644</td>\n",
       "      <td>0.655356</td>\n",
       "      <td>0</td>\n",
       "      <td>0.117109</td>\n",
       "      <td>0.882891</td>\n",
       "      <td>0</td>\n",
       "      <td>0.106818</td>\n",
       "      <td>0.893182</td>\n",
       "    </tr>\n",
       "    <tr>\n",
       "      <th>Russell Westbrook</th>\n",
       "      <td>0.0451422</td>\n",
       "      <td>0.954858</td>\n",
       "      <td>0.43349</td>\n",
       "      <td>0.56651</td>\n",
       "      <td>0</td>\n",
       "      <td>0.281897</td>\n",
       "      <td>0.718103</td>\n",
       "      <td>0</td>\n",
       "      <td>0.000394782</td>\n",
       "      <td>0.999605</td>\n",
       "    </tr>\n",
       "    <tr>\n",
       "      <th>Karl-Anthony Towns</th>\n",
       "      <td>0.11188</td>\n",
       "      <td>0.88812</td>\n",
       "      <td>0.388674</td>\n",
       "      <td>0.611326</td>\n",
       "      <td>0.0403103</td>\n",
       "      <td>0.454986</td>\n",
       "      <td>0.504703</td>\n",
       "      <td>2.01073e-07</td>\n",
       "      <td>0.0649214</td>\n",
       "      <td>0.935078</td>\n",
       "    </tr>\n",
       "    <tr>\n",
       "      <th>Stephen Curry</th>\n",
       "      <td>0.00804335</td>\n",
       "      <td>0.991957</td>\n",
       "      <td>0.353544</td>\n",
       "      <td>0.646456</td>\n",
       "      <td>0</td>\n",
       "      <td>0.451373</td>\n",
       "      <td>0.548627</td>\n",
       "      <td>0</td>\n",
       "      <td>5.86348e-05</td>\n",
       "      <td>0.999941</td>\n",
       "    </tr>\n",
       "    <tr>\n",
       "      <th>DeMarcus Cousins</th>\n",
       "      <td>0.1442</td>\n",
       "      <td>0.8558</td>\n",
       "      <td>0.345025</td>\n",
       "      <td>0.654975</td>\n",
       "      <td>0</td>\n",
       "      <td>0.117301</td>\n",
       "      <td>0.882699</td>\n",
       "      <td>0</td>\n",
       "      <td>0.098912</td>\n",
       "      <td>0.901088</td>\n",
       "    </tr>\n",
       "    <tr>\n",
       "      <th>James Harden</th>\n",
       "      <td>0.0114515</td>\n",
       "      <td>0.988549</td>\n",
       "      <td>0.492704</td>\n",
       "      <td>0.507296</td>\n",
       "      <td>0</td>\n",
       "      <td>0.125975</td>\n",
       "      <td>0.874025</td>\n",
       "      <td>0</td>\n",
       "      <td>7.44954e-07</td>\n",
       "      <td>0.999999</td>\n",
       "    </tr>\n",
       "    <tr>\n",
       "      <th>Joel Embiid</th>\n",
       "      <td>0.123995</td>\n",
       "      <td>0.876005</td>\n",
       "      <td>0.351961</td>\n",
       "      <td>0.648039</td>\n",
       "      <td>0</td>\n",
       "      <td>0.184668</td>\n",
       "      <td>0.815332</td>\n",
       "      <td>0</td>\n",
       "      <td>0.0151645</td>\n",
       "      <td>0.984835</td>\n",
       "    </tr>\n",
       "  </tbody>\n",
       "</table>\n",
       "</div>"
      ],
      "text/plain": [
       "                        Cold Cold  Cold Hot  Hot Cold    Hot Hot   Bad Cold  \\\n",
       "Hassan Whiteside        0.0697366  0.930263  0.398788   0.601212   0.062146   \n",
       "Anthony Davis            0.143563  0.856437  0.346398   0.653602          0   \n",
       "Kyrie Irving            0.0394753  0.960525  0.942189  0.0578107  0.0336382   \n",
       "Giannis Antetokounmpo  0.00619793  0.993802   0.50391    0.49609  0.0394509   \n",
       "LeBron James             0.141258  0.858742  0.344644   0.655356          0   \n",
       "Russell Westbrook       0.0451422  0.954858   0.43349    0.56651          0   \n",
       "Karl-Anthony Towns        0.11188   0.88812  0.388674   0.611326  0.0403103   \n",
       "Stephen Curry          0.00804335  0.991957  0.353544   0.646456          0   \n",
       "DeMarcus Cousins           0.1442    0.8558  0.345025   0.654975          0   \n",
       "James Harden            0.0114515  0.988549  0.492704   0.507296          0   \n",
       "Joel Embiid              0.123995  0.876005  0.351961   0.648039          0   \n",
       "\n",
       "                      Average Cold Good Cold      Bad Hot  Average Hot  \\\n",
       "Hassan Whiteside          0.353831  0.584024  3.21145e-10    0.0608423   \n",
       "Anthony Davis             0.131357  0.868643            0     0.115429   \n",
       "Kyrie Irving              0.401031  0.565331   9.1022e-19    0.0356141   \n",
       "Giannis Antetokounmpo     0.157738  0.802811   3.8076e-12  3.34234e-05   \n",
       "LeBron James              0.117109  0.882891            0     0.106818   \n",
       "Russell Westbrook         0.281897  0.718103            0  0.000394782   \n",
       "Karl-Anthony Towns        0.454986  0.504703  2.01073e-07    0.0649214   \n",
       "Stephen Curry             0.451373  0.548627            0  5.86348e-05   \n",
       "DeMarcus Cousins          0.117301  0.882699            0     0.098912   \n",
       "James Harden              0.125975  0.874025            0  7.44954e-07   \n",
       "Joel Embiid               0.184668  0.815332            0    0.0151645   \n",
       "\n",
       "                       Good Hot  \n",
       "Hassan Whiteside       0.939158  \n",
       "Anthony Davis          0.884571  \n",
       "Kyrie Irving           0.964386  \n",
       "Giannis Antetokounmpo  0.999967  \n",
       "LeBron James           0.893182  \n",
       "Russell Westbrook      0.999605  \n",
       "Karl-Anthony Towns     0.935078  \n",
       "Stephen Curry          0.999941  \n",
       "DeMarcus Cousins       0.901088  \n",
       "James Harden           0.999999  \n",
       "Joel Embiid            0.984835  "
      ]
     },
     "execution_count": 226,
     "metadata": {},
     "output_type": "execute_result"
    }
   ],
   "source": [
    "results17[(results17[\"Cold Cold\"] < 0.15) & (results17[\"Cold Hot\"] >= 0.85) & (results17[\"Good Hot\"] > 0.85) & (results17[\"Good Cold\"] >= 0.5)  ]"
   ]
  },
  {
   "cell_type": "markdown",
   "metadata": {},
   "source": [
    "# Ballers 2018 - 2019"
   ]
  },
  {
   "cell_type": "code",
   "execution_count": 227,
   "metadata": {},
   "outputs": [
    {
     "data": {
      "text/html": [
       "<div>\n",
       "<style scoped>\n",
       "    .dataframe tbody tr th:only-of-type {\n",
       "        vertical-align: middle;\n",
       "    }\n",
       "\n",
       "    .dataframe tbody tr th {\n",
       "        vertical-align: top;\n",
       "    }\n",
       "\n",
       "    .dataframe thead th {\n",
       "        text-align: right;\n",
       "    }\n",
       "</style>\n",
       "<table border=\"1\" class=\"dataframe\">\n",
       "  <thead>\n",
       "    <tr style=\"text-align: right;\">\n",
       "      <th></th>\n",
       "      <th>Cold Cold</th>\n",
       "      <th>Cold Hot</th>\n",
       "      <th>Hot Cold</th>\n",
       "      <th>Hot Hot</th>\n",
       "      <th>Bad Cold</th>\n",
       "      <th>Average Cold</th>\n",
       "      <th>Good Cold</th>\n",
       "      <th>Bad Hot</th>\n",
       "      <th>Average Hot</th>\n",
       "      <th>Good Hot</th>\n",
       "    </tr>\n",
       "  </thead>\n",
       "  <tbody>\n",
       "    <tr>\n",
       "      <th>Jrue Holiday</th>\n",
       "      <td>0.00280307</td>\n",
       "      <td>0.997197</td>\n",
       "      <td>0.703053</td>\n",
       "      <td>0.296947</td>\n",
       "      <td>0.070798</td>\n",
       "      <td>0.404386</td>\n",
       "      <td>0.524816</td>\n",
       "      <td>2.11907e-07</td>\n",
       "      <td>0.0406805</td>\n",
       "      <td>0.959319</td>\n",
       "    </tr>\n",
       "    <tr>\n",
       "      <th>Paul George</th>\n",
       "      <td>0.135105</td>\n",
       "      <td>0.864895</td>\n",
       "      <td>0.525266</td>\n",
       "      <td>0.474734</td>\n",
       "      <td>0</td>\n",
       "      <td>0.395487</td>\n",
       "      <td>0.604513</td>\n",
       "      <td>0</td>\n",
       "      <td>0.0188342</td>\n",
       "      <td>0.981166</td>\n",
       "    </tr>\n",
       "    <tr>\n",
       "      <th>Anthony Davis</th>\n",
       "      <td>0.127194</td>\n",
       "      <td>0.872806</td>\n",
       "      <td>0.356728</td>\n",
       "      <td>0.643272</td>\n",
       "      <td>0.061816</td>\n",
       "      <td>0.0565475</td>\n",
       "      <td>0.881637</td>\n",
       "      <td>0.000477981</td>\n",
       "      <td>0.0537332</td>\n",
       "      <td>0.945789</td>\n",
       "    </tr>\n",
       "    <tr>\n",
       "      <th>Kevin Durant</th>\n",
       "      <td>0.0894599</td>\n",
       "      <td>0.91054</td>\n",
       "      <td>0.423082</td>\n",
       "      <td>0.576918</td>\n",
       "      <td>0</td>\n",
       "      <td>0.295565</td>\n",
       "      <td>0.704435</td>\n",
       "      <td>0</td>\n",
       "      <td>0.0543154</td>\n",
       "      <td>0.945685</td>\n",
       "    </tr>\n",
       "    <tr>\n",
       "      <th>Nikola Jokic</th>\n",
       "      <td>0.117154</td>\n",
       "      <td>0.882846</td>\n",
       "      <td>0.348681</td>\n",
       "      <td>0.651319</td>\n",
       "      <td>0.10075</td>\n",
       "      <td>0.0898336</td>\n",
       "      <td>0.809416</td>\n",
       "      <td>0.000253192</td>\n",
       "      <td>0.00453622</td>\n",
       "      <td>0.995211</td>\n",
       "    </tr>\n",
       "    <tr>\n",
       "      <th>Giannis Antetokounmpo</th>\n",
       "      <td>0.125798</td>\n",
       "      <td>0.874202</td>\n",
       "      <td>0.342952</td>\n",
       "      <td>0.657048</td>\n",
       "      <td>0</td>\n",
       "      <td>0.0710603</td>\n",
       "      <td>0.92894</td>\n",
       "      <td>0</td>\n",
       "      <td>0.0144036</td>\n",
       "      <td>0.985596</td>\n",
       "    </tr>\n",
       "    <tr>\n",
       "      <th>LeBron James</th>\n",
       "      <td>0.133115</td>\n",
       "      <td>0.866885</td>\n",
       "      <td>0.338504</td>\n",
       "      <td>0.661496</td>\n",
       "      <td>0</td>\n",
       "      <td>0.0598525</td>\n",
       "      <td>0.940148</td>\n",
       "      <td>0</td>\n",
       "      <td>0.0568542</td>\n",
       "      <td>0.943146</td>\n",
       "    </tr>\n",
       "    <tr>\n",
       "      <th>Russell Westbrook</th>\n",
       "      <td>0.13719</td>\n",
       "      <td>0.86281</td>\n",
       "      <td>0.341299</td>\n",
       "      <td>0.658701</td>\n",
       "      <td>0</td>\n",
       "      <td>0.0843233</td>\n",
       "      <td>0.915677</td>\n",
       "      <td>0</td>\n",
       "      <td>0.0756864</td>\n",
       "      <td>0.924314</td>\n",
       "    </tr>\n",
       "    <tr>\n",
       "      <th>Nikola Vucevic</th>\n",
       "      <td>0.118392</td>\n",
       "      <td>0.881608</td>\n",
       "      <td>0.47095</td>\n",
       "      <td>0.52905</td>\n",
       "      <td>0.0379289</td>\n",
       "      <td>0.00157303</td>\n",
       "      <td>0.960498</td>\n",
       "      <td>0.00124341</td>\n",
       "      <td>0.126341</td>\n",
       "      <td>0.872416</td>\n",
       "    </tr>\n",
       "    <tr>\n",
       "      <th>Domantas Sabonis</th>\n",
       "      <td>0.0672393</td>\n",
       "      <td>0.932761</td>\n",
       "      <td>0.434369</td>\n",
       "      <td>0.565631</td>\n",
       "      <td>0.0959338</td>\n",
       "      <td>0.343544</td>\n",
       "      <td>0.560522</td>\n",
       "      <td>4.28931e-08</td>\n",
       "      <td>0.129294</td>\n",
       "      <td>0.870706</td>\n",
       "    </tr>\n",
       "    <tr>\n",
       "      <th>Kawhi Leonard</th>\n",
       "      <td>0.109398</td>\n",
       "      <td>0.890602</td>\n",
       "      <td>0.356812</td>\n",
       "      <td>0.643188</td>\n",
       "      <td>0</td>\n",
       "      <td>0.244033</td>\n",
       "      <td>0.755967</td>\n",
       "      <td>0</td>\n",
       "      <td>0.00858177</td>\n",
       "      <td>0.991418</td>\n",
       "    </tr>\n",
       "    <tr>\n",
       "      <th>Stephen Curry</th>\n",
       "      <td>0.0138777</td>\n",
       "      <td>0.986122</td>\n",
       "      <td>0.566563</td>\n",
       "      <td>0.433437</td>\n",
       "      <td>0.0456269</td>\n",
       "      <td>0.355082</td>\n",
       "      <td>0.599291</td>\n",
       "      <td>1.17087e-15</td>\n",
       "      <td>0.0582334</td>\n",
       "      <td>0.941767</td>\n",
       "    </tr>\n",
       "    <tr>\n",
       "      <th>DeMarcus Cousins</th>\n",
       "      <td>6.65508e-07</td>\n",
       "      <td>0.999999</td>\n",
       "      <td>0.828113</td>\n",
       "      <td>0.171887</td>\n",
       "      <td>0</td>\n",
       "      <td>0.388956</td>\n",
       "      <td>0.611044</td>\n",
       "      <td>0</td>\n",
       "      <td>1.27916e-21</td>\n",
       "      <td>1</td>\n",
       "    </tr>\n",
       "    <tr>\n",
       "      <th>James Harden</th>\n",
       "      <td>0.118114</td>\n",
       "      <td>0.881886</td>\n",
       "      <td>0.352633</td>\n",
       "      <td>0.647367</td>\n",
       "      <td>0</td>\n",
       "      <td>0.117145</td>\n",
       "      <td>0.882855</td>\n",
       "      <td>0</td>\n",
       "      <td>0.0141967</td>\n",
       "      <td>0.985803</td>\n",
       "    </tr>\n",
       "    <tr>\n",
       "      <th>Joel Embiid</th>\n",
       "      <td>0.134793</td>\n",
       "      <td>0.865207</td>\n",
       "      <td>0.339733</td>\n",
       "      <td>0.660267</td>\n",
       "      <td>0</td>\n",
       "      <td>0.0700579</td>\n",
       "      <td>0.929942</td>\n",
       "      <td>0</td>\n",
       "      <td>0.0653426</td>\n",
       "      <td>0.934657</td>\n",
       "    </tr>\n",
       "    <tr>\n",
       "      <th>Jonas Valanciunas</th>\n",
       "      <td>0.0627744</td>\n",
       "      <td>0.937226</td>\n",
       "      <td>0.489097</td>\n",
       "      <td>0.510903</td>\n",
       "      <td>0.131131</td>\n",
       "      <td>0.182618</td>\n",
       "      <td>0.686251</td>\n",
       "      <td>1.46172e-06</td>\n",
       "      <td>0.0744507</td>\n",
       "      <td>0.925548</td>\n",
       "    </tr>\n",
       "  </tbody>\n",
       "</table>\n",
       "</div>"
      ],
      "text/plain": [
       "                         Cold Cold  Cold Hot  Hot Cold   Hot Hot   Bad Cold  \\\n",
       "Jrue Holiday            0.00280307  0.997197  0.703053  0.296947   0.070798   \n",
       "Paul George               0.135105  0.864895  0.525266  0.474734          0   \n",
       "Anthony Davis             0.127194  0.872806  0.356728  0.643272   0.061816   \n",
       "Kevin Durant             0.0894599   0.91054  0.423082  0.576918          0   \n",
       "Nikola Jokic              0.117154  0.882846  0.348681  0.651319    0.10075   \n",
       "Giannis Antetokounmpo     0.125798  0.874202  0.342952  0.657048          0   \n",
       "LeBron James              0.133115  0.866885  0.338504  0.661496          0   \n",
       "Russell Westbrook          0.13719   0.86281  0.341299  0.658701          0   \n",
       "Nikola Vucevic            0.118392  0.881608   0.47095   0.52905  0.0379289   \n",
       "Domantas Sabonis         0.0672393  0.932761  0.434369  0.565631  0.0959338   \n",
       "Kawhi Leonard             0.109398  0.890602  0.356812  0.643188          0   \n",
       "Stephen Curry            0.0138777  0.986122  0.566563  0.433437  0.0456269   \n",
       "DeMarcus Cousins       6.65508e-07  0.999999  0.828113  0.171887          0   \n",
       "James Harden              0.118114  0.881886  0.352633  0.647367          0   \n",
       "Joel Embiid               0.134793  0.865207  0.339733  0.660267          0   \n",
       "Jonas Valanciunas        0.0627744  0.937226  0.489097  0.510903   0.131131   \n",
       "\n",
       "                      Average Cold Good Cold      Bad Hot  Average Hot  \\\n",
       "Jrue Holiday              0.404386  0.524816  2.11907e-07    0.0406805   \n",
       "Paul George               0.395487  0.604513            0    0.0188342   \n",
       "Anthony Davis            0.0565475  0.881637  0.000477981    0.0537332   \n",
       "Kevin Durant              0.295565  0.704435            0    0.0543154   \n",
       "Nikola Jokic             0.0898336  0.809416  0.000253192   0.00453622   \n",
       "Giannis Antetokounmpo    0.0710603   0.92894            0    0.0144036   \n",
       "LeBron James             0.0598525  0.940148            0    0.0568542   \n",
       "Russell Westbrook        0.0843233  0.915677            0    0.0756864   \n",
       "Nikola Vucevic          0.00157303  0.960498   0.00124341     0.126341   \n",
       "Domantas Sabonis          0.343544  0.560522  4.28931e-08     0.129294   \n",
       "Kawhi Leonard             0.244033  0.755967            0   0.00858177   \n",
       "Stephen Curry             0.355082  0.599291  1.17087e-15    0.0582334   \n",
       "DeMarcus Cousins          0.388956  0.611044            0  1.27916e-21   \n",
       "James Harden              0.117145  0.882855            0    0.0141967   \n",
       "Joel Embiid              0.0700579  0.929942            0    0.0653426   \n",
       "Jonas Valanciunas         0.182618  0.686251  1.46172e-06    0.0744507   \n",
       "\n",
       "                       Good Hot  \n",
       "Jrue Holiday           0.959319  \n",
       "Paul George            0.981166  \n",
       "Anthony Davis          0.945789  \n",
       "Kevin Durant           0.945685  \n",
       "Nikola Jokic           0.995211  \n",
       "Giannis Antetokounmpo  0.985596  \n",
       "LeBron James           0.943146  \n",
       "Russell Westbrook      0.924314  \n",
       "Nikola Vucevic         0.872416  \n",
       "Domantas Sabonis       0.870706  \n",
       "Kawhi Leonard          0.991418  \n",
       "Stephen Curry          0.941767  \n",
       "DeMarcus Cousins              1  \n",
       "James Harden           0.985803  \n",
       "Joel Embiid            0.934657  \n",
       "Jonas Valanciunas      0.925548  "
      ]
     },
     "execution_count": 227,
     "metadata": {},
     "output_type": "execute_result"
    }
   ],
   "source": [
    "results19[(results19[\"Cold Cold\"] < 0.15) & (results19[\"Cold Hot\"] >= 0.85) & (results19[\"Good Hot\"] > 0.85) & (results19[\"Good Cold\"] >= 0.5)  ]"
   ]
  },
  {
   "cell_type": "code",
   "execution_count": 243,
   "metadata": {},
   "outputs": [
    {
     "data": {
      "text/plain": [
       "Index(['Cold Cold', 'Cold Hot', 'Hot Cold', 'Hot Hot', 'Bad Cold',\n",
       "       'Average Cold', 'Good Cold', 'Bad Hot', 'Average Hot', 'Good Hot'],\n",
       "      dtype='object')"
      ]
     },
     "execution_count": 243,
     "metadata": {},
     "output_type": "execute_result"
    }
   ],
   "source": [
    "differences.columns"
   ]
  },
  {
   "cell_type": "code",
   "execution_count": 252,
   "metadata": {
    "scrolled": false
   },
   "outputs": [],
   "source": [
    "differences =  results19  - results17\n"
   ]
  },
  {
   "cell_type": "code",
   "execution_count": 262,
   "metadata": {},
   "outputs": [
    {
     "data": {
      "text/plain": [
       "Index(['John Henson'], dtype='object')"
      ]
     },
     "execution_count": 262,
     "metadata": {},
     "output_type": "execute_result"
    }
   ],
   "source": [
    "differences.index[differences[\"Good Cold\"] == differences[\"Good Cold\"].max()]"
   ]
  },
  {
   "cell_type": "code",
   "execution_count": 264,
   "metadata": {},
   "outputs": [
    {
     "data": {
      "text/plain": [
       "Cold Cold         0.537076\n",
       "Cold Hot          0.462924\n",
       "Hot Cold          0.744111\n",
       "Hot Hot           0.255889\n",
       "Bad Cold          0.282957\n",
       "Average Cold      0.715848\n",
       "Good Cold       0.00119525\n",
       "Bad Hot          0.0294562\n",
       "Average Hot       0.533293\n",
       "Good Hot          0.437251\n",
       "Name: John Henson, dtype: object"
      ]
     },
     "execution_count": 264,
     "metadata": {},
     "output_type": "execute_result"
    }
   ],
   "source": [
    "results17.loc[\"John Henson\"]"
   ]
  },
  {
   "cell_type": "code",
   "execution_count": 265,
   "metadata": {},
   "outputs": [
    {
     "data": {
      "text/plain": [
       "Cold Cold         0.629149\n",
       "Cold Hot          0.370851\n",
       "Hot Cold          0.634822\n",
       "Hot Hot           0.365178\n",
       "Bad Cold          0.121425\n",
       "Average Cold      0.101017\n",
       "Good Cold         0.777558\n",
       "Bad Hot         1.6032e-05\n",
       "Average Hot       0.896433\n",
       "Good Hot          0.103551\n",
       "Name: John Henson, dtype: object"
      ]
     },
     "execution_count": 265,
     "metadata": {},
     "output_type": "execute_result"
    }
   ],
   "source": [
    "results19.loc[\"John Henson\"]"
   ]
  },
  {
   "cell_type": "code",
   "execution_count": null,
   "metadata": {},
   "outputs": [],
   "source": []
  }
 ],
 "metadata": {
  "kernelspec": {
   "display_name": "Python 3",
   "language": "python",
   "name": "python3"
  },
  "language_info": {
   "codemirror_mode": {
    "name": "ipython",
    "version": 3
   },
   "file_extension": ".py",
   "mimetype": "text/x-python",
   "name": "python",
   "nbconvert_exporter": "python",
   "pygments_lexer": "ipython3",
   "version": "3.6.8"
  },
  "varInspector": {
   "cols": {
    "lenName": 16,
    "lenType": 16,
    "lenVar": 40
   },
   "kernels_config": {
    "python": {
     "delete_cmd_postfix": "",
     "delete_cmd_prefix": "del ",
     "library": "var_list.py",
     "varRefreshCmd": "print(var_dic_list())"
    },
    "r": {
     "delete_cmd_postfix": ") ",
     "delete_cmd_prefix": "rm(",
     "library": "var_list.r",
     "varRefreshCmd": "cat(var_dic_list()) "
    }
   },
   "types_to_exclude": [
    "module",
    "function",
    "builtin_function_or_method",
    "instance",
    "_Feature"
   ],
   "window_display": false
  }
 },
 "nbformat": 4,
 "nbformat_minor": 2
}
